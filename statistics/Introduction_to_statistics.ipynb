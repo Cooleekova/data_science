{
 "cells": [
  {
   "cell_type": "markdown",
   "id": "664d7147",
   "metadata": {},
   "source": [
    "# Measures of center\n",
    "### - The mean is the sum of all the data points divided by the total number of data points\n",
    "### - The median is the middle value of the dataset where 50% of the data is less than the median, and 50% of the data is greater than the median"
   ]
  },
  {
   "cell_type": "markdown",
   "id": "7ae03180",
   "metadata": {},
   "source": [
    "The *food_consumption* dataset contains information about the kilograms of food consumed per person per year in each country in each food category (consumption) as well as information about the carbon footprint of that food category (co2_emissions) measured in kilograms of carbon dioxide, or CO2, per person per year in each country."
   ]
  },
  {
   "cell_type": "code",
   "execution_count": 34,
   "id": "ebac5504",
   "metadata": {},
   "outputs": [
    {
     "name": "stderr",
     "output_type": "stream",
     "text": [
      "Matplotlib is building the font cache; this may take a moment.\n"
     ]
    }
   ],
   "source": [
    "import pandas as pd\n",
    "import numpy as np\n",
    "import matplotlib.pyplot as plt"
   ]
  },
  {
   "cell_type": "code",
   "execution_count": 35,
   "id": "b999b08e",
   "metadata": {},
   "outputs": [],
   "source": [
    "# compute measures of center to compare food consumption in the US and Belgium\n",
    "food_consumption = pd.read_csv(\"food_consumption.csv\")\n",
    "be_consumption = food_consumption[food_consumption[\"country\"] == \"Belgium\"]\n",
    "usa_consumption = food_consumption[food_consumption[\"country\"] == \"USA\"]"
   ]
  },
  {
   "cell_type": "code",
   "execution_count": 38,
   "id": "0e1d16c9",
   "metadata": {},
   "outputs": [
    {
     "name": "stdout",
     "output_type": "stream",
     "text": [
      "MEAN:  42.13272727272727\n",
      "MEDIAN:  12.59\n"
     ]
    }
   ],
   "source": [
    "# Calculate mean and median consumption in Belgium\n",
    "print(\"MEAN: \", np.mean(be_consumption['consumption']))\n",
    "print(\"MEDIAN: \", np.median(be_consumption['consumption']))"
   ]
  },
  {
   "cell_type": "code",
   "execution_count": 39,
   "id": "240e7638",
   "metadata": {},
   "outputs": [
    {
     "name": "stdout",
     "output_type": "stream",
     "text": [
      "MEAN : 44.650000000000006\n",
      "MEDIAN : 14.58\n"
     ]
    }
   ],
   "source": [
    "# Calculate mean and median consumption in USA\n",
    "print(\"MEAN :\", np.mean(usa_consumption['consumption']))\n",
    "print(\"MEDIAN :\", np.median(usa_consumption['consumption']))"
   ]
  },
  {
   "cell_type": "markdown",
   "id": "dc454ec4",
   "metadata": {},
   "source": [
    "### When you want to compare summary statistics between groups, it's much easier to use .groupby() and .agg() instead of subsetting and calling the same functions multiple times."
   ]
  },
  {
   "cell_type": "code",
   "execution_count": 20,
   "id": "39b189b3",
   "metadata": {},
   "outputs": [],
   "source": [
    "# Subset for Belgium and USA only\n",
    "be_and_usa = food_consumption[(food_consumption[\"country\"] == \"Belgium\") | (food_consumption[\"country\"] == \"USA\")]"
   ]
  },
  {
   "cell_type": "code",
   "execution_count": 33,
   "id": "6f6bd20a",
   "metadata": {},
   "outputs": [
    {
     "data": {
      "text/html": [
       "<div>\n",
       "<style scoped>\n",
       "    .dataframe tbody tr th:only-of-type {\n",
       "        vertical-align: middle;\n",
       "    }\n",
       "\n",
       "    .dataframe tbody tr th {\n",
       "        vertical-align: top;\n",
       "    }\n",
       "\n",
       "    .dataframe thead th {\n",
       "        text-align: right;\n",
       "    }\n",
       "</style>\n",
       "<table border=\"1\" class=\"dataframe\">\n",
       "  <thead>\n",
       "    <tr style=\"text-align: right;\">\n",
       "      <th></th>\n",
       "      <th>mean</th>\n",
       "      <th>median</th>\n",
       "    </tr>\n",
       "    <tr>\n",
       "      <th>country</th>\n",
       "      <th></th>\n",
       "      <th></th>\n",
       "    </tr>\n",
       "  </thead>\n",
       "  <tbody>\n",
       "    <tr>\n",
       "      <th>Belgium</th>\n",
       "      <td>42.132727</td>\n",
       "      <td>12.59</td>\n",
       "    </tr>\n",
       "    <tr>\n",
       "      <th>USA</th>\n",
       "      <td>44.650000</td>\n",
       "      <td>14.58</td>\n",
       "    </tr>\n",
       "  </tbody>\n",
       "</table>\n",
       "</div>"
      ],
      "text/plain": [
       "              mean  median\n",
       "country                   \n",
       "Belgium  42.132727   12.59\n",
       "USA      44.650000   14.58"
      ]
     },
     "execution_count": 33,
     "metadata": {},
     "output_type": "execute_result"
    }
   ],
   "source": [
    "# Group by country, select consumption column, and compute mean and median\n",
    "be_and_usa.groupby([\"country\"])['consumption'].agg([np.mean, np.median])"
   ]
  },
  {
   "cell_type": "code",
   "execution_count": 55,
   "id": "c4d0c54c",
   "metadata": {},
   "outputs": [
    {
     "data": {
      "image/png": "[encoded data removed]",
      "text/plain": [
       "<Figure size 640x480 with 1 Axes>"
      ]
     },
     "metadata": {},
     "output_type": "display_data"
    }
   ],
   "source": [
    "# Subset for food_category equals rice\n",
    "rice_consumption = food_consumption[food_consumption['food_category'] == 'rice']\n",
    "\n",
    "# Histogram of co2_emission for rice and show plot\n",
    "plt.hist(rice_consumption['co2_emission'], bins=10)\n",
    "plt.show()"
   ]
  },
  {
   "cell_type": "code",
   "execution_count": 56,
   "id": "ed3cf1bc",
   "metadata": {},
   "outputs": [
    {
     "data": {
      "text/plain": [
       "mean      37.591615\n",
       "median    15.200000\n",
       "Name: co2_emission, dtype: float64"
      ]
     },
     "execution_count": 56,
     "metadata": {},
     "output_type": "execute_result"
    }
   ],
   "source": [
    "# Calculate mean and median of co2_emission \n",
    "rice_consumption[\"co2_emission\"].agg([np.mean, np.median])"
   ]
  },
  {
   "cell_type": "code",
   "execution_count": null,
   "id": "95eee670",
   "metadata": {},
   "outputs": [],
   "source": []
  },
  {
   "cell_type": "code",
   "execution_count": null,
   "id": "a49dc7aa",
   "metadata": {},
   "outputs": [],
   "source": []
  },
  {
   "cell_type": "code",
   "execution_count": null,
   "id": "75566368",
   "metadata": {},
   "outputs": [],
   "source": []
  },
  {
   "cell_type": "code",
   "execution_count": null,
   "id": "7c81713d",
   "metadata": {},
   "outputs": [],
   "source": []
  },
  {
   "cell_type": "code",
   "execution_count": null,
   "id": "91c89cc9",
   "metadata": {},
   "outputs": [],
   "source": []
  },
  {
   "cell_type": "code",
   "execution_count": null,
   "id": "57bd41d4",
   "metadata": {},
   "outputs": [],
   "source": []
  },
  {
   "cell_type": "code",
   "execution_count": null,
   "id": "ca7dc100",
   "metadata": {},
   "outputs": [],
   "source": []
  },
  {
   "cell_type": "code",
   "execution_count": null,
   "id": "1f2b10f5",
   "metadata": {},
   "outputs": [],
   "source": []
  },
  {
   "cell_type": "code",
   "execution_count": null,
   "id": "36564d5f",
   "metadata": {},
   "outputs": [],
   "source": []
  }
 ],
 "metadata": {
  "kernelspec": {
   "display_name": "Python 3 (ipykernel)",
   "language": "python",
   "name": "python3"
  },
  "language_info": {
   "codemirror_mode": {
    "name": "ipython",
    "version": 3
   },
   "file_extension": ".py",
   "mimetype": "text/x-python",
   "name": "python",
   "nbconvert_exporter": "python",
   "pygments_lexer": "ipython3",
   "version": "3.10.9"
  }
 },
 "nbformat": 4,
 "nbformat_minor": 5
}
